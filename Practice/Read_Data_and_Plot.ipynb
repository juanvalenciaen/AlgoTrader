{
 "cells": [
  {
   "cell_type": "markdown",
   "metadata": {
    "colab_type": "text",
    "id": "D3sxUQ9ya-Ud"
   },
   "source": [
    "Libraries"
   ]
  },
  {
   "cell_type": "code",
   "execution_count": 1,
   "metadata": {
    "colab": {
     "base_uri": "https://localhost:8080/",
     "height": 350
    },
    "colab_type": "code",
    "id": "-jGkt-xhZiyC",
    "outputId": "3bada269-104a-4cfc-b18e-5672f391db4c"
   },
   "outputs": [
    {
     "ename": "ModuleNotFoundError",
     "evalue": "No module named 'finplot'",
     "output_type": "error",
     "traceback": [
      "\u001b[1;31m---------------------------------------------------------------------------\u001b[0m",
      "\u001b[1;31mModuleNotFoundError\u001b[0m                       Traceback (most recent call last)",
      "\u001b[1;32m<ipython-input-1-297c76c1dc4a>\u001b[0m in \u001b[0;36m<module>\u001b[1;34m\u001b[0m\n\u001b[0;32m      1\u001b[0m \u001b[1;32mimport\u001b[0m \u001b[0mpandas\u001b[0m \u001b[1;32mas\u001b[0m \u001b[0mpd\u001b[0m\u001b[1;33m\u001b[0m\u001b[1;33m\u001b[0m\u001b[0m\n\u001b[0;32m      2\u001b[0m \u001b[1;32mfrom\u001b[0m \u001b[0mdatetime\u001b[0m \u001b[1;32mimport\u001b[0m \u001b[0mdatetime\u001b[0m\u001b[1;33m\u001b[0m\u001b[1;33m\u001b[0m\u001b[0m\n\u001b[1;32m----> 3\u001b[1;33m \u001b[1;32mimport\u001b[0m \u001b[0mfinplot\u001b[0m \u001b[1;32mas\u001b[0m \u001b[0mfplt\u001b[0m\u001b[1;33m\u001b[0m\u001b[1;33m\u001b[0m\u001b[0m\n\u001b[0m\u001b[0;32m      4\u001b[0m \u001b[1;32mimport\u001b[0m \u001b[0mnumpy\u001b[0m \u001b[1;32mas\u001b[0m \u001b[0mnp\u001b[0m\u001b[1;33m\u001b[0m\u001b[1;33m\u001b[0m\u001b[0m\n",
      "\u001b[1;31mModuleNotFoundError\u001b[0m: No module named 'finplot'"
     ]
    }
   ],
   "source": [
    "import pandas as pd\n",
    "from datetime import datetime\n",
    "import finplot as fplt\n",
    "import numpy as np"
   ]
  },
  {
   "cell_type": "markdown",
   "metadata": {
    "colab_type": "text",
    "id": "7_uteaTDbYki"
   },
   "source": [
    "Read the txt file"
   ]
  },
  {
   "cell_type": "code",
   "execution_count": null,
   "metadata": {
    "colab": {},
    "colab_type": "code",
    "id": "8c6MrUeobaar"
   },
   "outputs": [],
   "source": [
    "name = \"ADMA.txt\"\n",
    "data = [i.strip('\\n').split('\\t') for i in open(name)]\n",
    "\n",
    "#print(data)   "
   ]
  },
  {
   "cell_type": "code",
   "execution_count": null,
   "metadata": {
    "colab": {},
    "colab_type": "code",
    "id": "Fh56cVPZa8v9"
   },
   "outputs": [],
   "source": [
    " \n",
    "# Select the important information\n",
    "data = data[1:]\n",
    "data = [j.split(\",\") for i in data for j in i]\n",
    "data = [[*i[0:5], i[-1]] for i in data]\n",
    "#print(data)"
   ]
  },
  {
   "cell_type": "markdown",
   "metadata": {
    "colab_type": "text",
    "id": "fI6_PNs0boKF"
   },
   "source": [
    "Convert date from string to datetime type"
   ]
  },
  {
   "cell_type": "code",
   "execution_count": null,
   "metadata": {
    "colab": {},
    "colab_type": "code",
    "id": "cT_OshucbGaK"
   },
   "outputs": [],
   "source": [
    "\n",
    "for info in data:\n",
    "    info[0] = datetime.strptime(info[0], '%m/%d/%Y %I:%M:%S %p')\n",
    "    x = np.array(info[1:]).astype(np.float)\n",
    "    info[1:] = x.tolist()\n",
    "    \n",
    "#print(data)"
   ]
  },
  {
   "cell_type": "markdown",
   "metadata": {
    "colab_type": "text",
    "id": "XIIcjmp5bxBj"
   },
   "source": [
    "Convert data into dataframe"
   ]
  },
  {
   "cell_type": "code",
   "execution_count": null,
   "metadata": {
    "colab": {},
    "colab_type": "code",
    "id": "EySmiG2MbIP5"
   },
   "outputs": [],
   "source": [
    "\n",
    "data = pd.DataFrame(data)\n",
    "data.columns = ['date', 'open', 'high', 'low', 'close', 'volume']\n",
    "#print(data)"
   ]
  },
  {
   "cell_type": "markdown",
   "metadata": {
    "colab_type": "text",
    "id": "yIAZE8CMb6fL"
   },
   "source": [
    "Plot candlestick\n",
    "https://pypi.org/project/finplot/"
   ]
  },
  {
   "cell_type": "code",
   "execution_count": null,
   "metadata": {
    "colab": {},
    "colab_type": "code",
    "id": "IFfiSLLwbMPy"
   },
   "outputs": [],
   "source": [
    "ax = fplt.create_plot(name, rows=1)\n",
    "candles = data[['date', 'open', 'close', 'high', 'low']]\n",
    "fplt.candlestick_ochl(candles)\n",
    "volumes = data[['date', 'open', 'close', 'volume']]\n",
    "fplt.volume_ocv(volumes, ax=ax.overlay())\n",
    "fplt.autoviewrestore()\n",
    "fplt.show()"
   ]
  }
 ],
 "metadata": {
  "colab": {
   "name": "Read Data and Plot.ipynb",
   "provenance": []
  },
  "kernelspec": {
   "display_name": "Python 3",
   "language": "python",
   "name": "python3"
  },
  "language_info": {
   "codemirror_mode": {
    "name": "ipython",
    "version": 3
   },
   "file_extension": ".py",
   "mimetype": "text/x-python",
   "name": "python",
   "nbconvert_exporter": "python",
   "pygments_lexer": "ipython3",
   "version": "3.7.6"
  }
 },
 "nbformat": 4,
 "nbformat_minor": 1
}
